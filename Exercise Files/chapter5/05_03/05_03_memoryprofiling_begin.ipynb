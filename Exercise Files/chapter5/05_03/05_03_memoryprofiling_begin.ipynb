{
 "cells": [
  {
   "cell_type": "markdown",
   "metadata": {},
   "source": [
    "### Python module/package imports for this chapter"
   ]
  },
  {
   "cell_type": "code",
   "execution_count": 1,
   "metadata": {},
   "outputs": [],
   "source": [
    "import sys, math, collections, itertools, multiprocessing, gzip"
   ]
  },
  {
   "cell_type": "code",
   "execution_count": 2,
   "metadata": {},
   "outputs": [],
   "source": [
    "import numpy as np\n",
    "\n",
    "import matplotlib\n",
    "import matplotlib.pyplot as pp\n",
    "\n",
    "%matplotlib inline"
   ]
  },
  {
   "cell_type": "code",
   "execution_count": 3,
   "metadata": {},
   "outputs": [],
   "source": [
    "%load_ext line_profiler\n",
    "%load_ext memory_profiler"
   ]
  },
  {
   "cell_type": "markdown",
   "metadata": {},
   "source": [
    "## Profiling memory"
   ]
  },
  {
   "cell_type": "code",
   "execution_count": 4,
   "metadata": {},
   "outputs": [],
   "source": [
    "vector_list = [float(i) for i in range(1000000)]"
   ]
  },
  {
   "cell_type": "code",
   "execution_count": 5,
   "metadata": {},
   "outputs": [],
   "source": [
    "vector_np = np.arange(0,1000000, dtype='d')"
   ]
  },
  {
   "cell_type": "code",
   "execution_count": 8,
   "metadata": {},
   "outputs": [
    {
     "data": {
      "text/plain": [
       "24"
      ]
     },
     "execution_count": 8,
     "metadata": {},
     "output_type": "execute_result"
    }
   ],
   "source": [
    "sys.getsizeof(1.0)"
   ]
  },
  {
   "cell_type": "code",
   "execution_count": 9,
   "metadata": {},
   "outputs": [
    {
     "data": {
      "text/plain": [
       "28"
      ]
     },
     "execution_count": 9,
     "metadata": {},
     "output_type": "execute_result"
    }
   ],
   "source": [
    "sys.getsizeof(1)"
   ]
  },
  {
   "cell_type": "code",
   "execution_count": 6,
   "metadata": {},
   "outputs": [
    {
     "data": {
      "text/plain": [
       "8697464"
      ]
     },
     "execution_count": 6,
     "metadata": {},
     "output_type": "execute_result"
    }
   ],
   "source": [
    "sys.getsizeof(vector_list)"
   ]
  },
  {
   "cell_type": "code",
   "execution_count": 7,
   "metadata": {},
   "outputs": [
    {
     "data": {
      "text/plain": [
       "8000096"
      ]
     },
     "execution_count": 7,
     "metadata": {},
     "output_type": "execute_result"
    }
   ],
   "source": [
    "sys.getsizeof(vector_np)"
   ]
  },
  {
   "cell_type": "code",
   "execution_count": 13,
   "metadata": {},
   "outputs": [
    {
     "name": "stdout",
     "output_type": "stream",
     "text": [
      "Overwriting memory.py\n"
     ]
    }
   ],
   "source": [
    "%%file memory.py\n",
    "\n",
    "import numpy as np\n",
    "\n",
    "@profile\n",
    "def allocator():\n",
    "    vector_list = [float(i) for i in range(1000000)]\n",
    "    vector_np = np.arange(0,1000000, dtype='d')\n",
    "\n",
    "allocator()\n"
   ]
  },
  {
   "cell_type": "code",
   "execution_count": 14,
   "metadata": {},
   "outputs": [
    {
     "name": "stdout",
     "output_type": "stream",
     "text": [
      "Filename: memory.py\n",
      "\n",
      "Line #    Mem usage    Increment   Line Contents\n",
      "================================================\n",
      "     4   58.574 MiB   58.574 MiB   @profile\n",
      "     5                             def allocator():\n",
      "     6   89.699 MiB    0.754 MiB       vector_list = [float(i) for i in range(1000000)]\n",
      "     7   97.344 MiB    7.645 MiB       vector_np = np.arange(0,1000000, dtype='d')\n",
      "\n",
      "\n"
     ]
    }
   ],
   "source": [
    "!python -m memory_profiler memory.py"
   ]
  },
  {
   "cell_type": "code",
   "execution_count": 15,
   "metadata": {},
   "outputs": [],
   "source": [
    "dict_list = [{'x': 1.0*i, 'y': 2.5*i} for i in range(1000000)]"
   ]
  },
  {
   "cell_type": "code",
   "execution_count": 16,
   "metadata": {},
   "outputs": [],
   "source": [
    "class xy_class(object):\n",
    "    def __init__(self,x,y):\n",
    "        self.x, self.y = x,y\n",
    "        \n",
    "class_list = [xy_class(1.0*i, 2.5*i) for i in range(1000000)]"
   ]
  },
  {
   "cell_type": "code",
   "execution_count": 17,
   "metadata": {},
   "outputs": [],
   "source": [
    "class xy_slots(object):\n",
    "    __slots__ = ['x', 'y']\n",
    "    \n",
    "    def __init__(self,x,y):\n",
    "        self.x, self.y = x,y\n",
    "        \n",
    "slots_list = [xy_slots(1.0*i, 2.5*i) for i in range(1000000)]"
   ]
  },
  {
   "cell_type": "code",
   "execution_count": 19,
   "metadata": {},
   "outputs": [],
   "source": [
    "xy_namedtuple = collections.namedtuple('xy',['x','y'])\n",
    "\n",
    "namedtuple_list = [xy_namedtuple(1.0*i, 2.5*i) for i in range(1000000)]"
   ]
  },
  {
   "cell_type": "code",
   "execution_count": 20,
   "metadata": {},
   "outputs": [],
   "source": [
    "tuple_list = [(1.0*i, 2.5*i) for i in range(1000000)]"
   ]
  },
  {
   "cell_type": "code",
   "execution_count": 21,
   "metadata": {},
   "outputs": [],
   "source": [
    "list_list = [[1.0*i, 2.5*i] for i in range(1000000)]"
   ]
  },
  {
   "cell_type": "code",
   "execution_count": 22,
   "metadata": {},
   "outputs": [],
   "source": [
    "record_np = np.fromiter(((1.0*i, 2.5*i) for i in range(100000)),\n",
    "                       dtype = [('x','d'),('y','d')])"
   ]
  },
  {
   "cell_type": "code",
   "execution_count": 27,
   "metadata": {},
   "outputs": [
    {
     "name": "stdout",
     "output_type": "stream",
     "text": [
      "Overwriting memory2.py\n"
     ]
    }
   ],
   "source": [
    "%%file memory2.py\n",
    "\n",
    "import collections\n",
    "import numpy as np\n",
    "\n",
    "@profile\n",
    "def allocate():\n",
    "    dict_list = [{'x': 1.0*i,'y': 2.5*i} for i in range(100000)]\n",
    "\n",
    "    class xy_class(object):\n",
    "        def __init__(self,x,y):\n",
    "            self.x, self.y = x, y\n",
    "\n",
    "    class_list = [xy_class(1.0*i,2.5*i) for i in range(100000)]\n",
    "\n",
    "    class xy_slots(object):\n",
    "        __slots__ = ['x','y']\n",
    "\n",
    "        def __init__(self,x,y):\n",
    "            self.x, self.y = x, y\n",
    "\n",
    "    slots_list = [xy_slots(1.0*i,2.5*i) for i in range(100000)]\n",
    "\n",
    "    xy_namedtuple = collections.namedtuple('xy',['x','y'])\n",
    "\n",
    "    namedtuple_list = [xy_namedtuple(1.0*i,2.5*i) for i in range(100000)]\n",
    "\n",
    "    tuple_list = [(1.0*i,2.5*i) for i in range(100000)]\n",
    "\n",
    "    list_list = [[1.0*i,2.5*i] for i in range(100000)]\n",
    "\n",
    "    record_np = np.fromiter(((1.0*i,2.5*i) for i in range(100000)),\n",
    "                            dtype=[('x','d'),('y','d')])\n",
    "    \n",
    "allocate()"
   ]
  },
  {
   "cell_type": "code",
   "execution_count": 28,
   "metadata": {},
   "outputs": [
    {
     "name": "stdout",
     "output_type": "stream",
     "text": [
      "Filename: memory2.py\n",
      "\n",
      "Line #    Mem usage    Increment   Line Contents\n",
      "================================================\n",
      "     5   58.676 MiB   58.676 MiB   @profile\n",
      "     6                             def allocate():\n",
      "     7   87.699 MiB    0.395 MiB       dict_list = [{'x': 1.0*i,'y': 2.5*i} for i in range(100000)]\n",
      "     8                             \n",
      "     9   87.703 MiB    0.000 MiB       class xy_class(object):\n",
      "    10  109.742 MiB    0.062 MiB           def __init__(self,x,y):\n",
      "    11  109.742 MiB    0.062 MiB               self.x, self.y = x, y\n",
      "    12                             \n",
      "    13  109.742 MiB    0.441 MiB       class_list = [xy_class(1.0*i,2.5*i) for i in range(100000)]\n",
      "    14                             \n",
      "    15  109.742 MiB    0.000 MiB       class xy_slots(object):\n",
      "    16  109.742 MiB    0.000 MiB           __slots__ = ['x','y']\n",
      "    17                             \n",
      "    18  120.750 MiB    0.062 MiB           def __init__(self,x,y):\n",
      "    19  120.750 MiB    0.062 MiB               self.x, self.y = x, y\n",
      "    20                             \n",
      "    21  120.750 MiB    0.703 MiB       slots_list = [xy_slots(1.0*i,2.5*i) for i in range(100000)]\n",
      "    22                             \n",
      "    23  120.750 MiB    0.000 MiB       xy_namedtuple = collections.namedtuple('xy',['x','y'])\n",
      "    24                             \n",
      "    25  133.176 MiB    0.699 MiB       namedtuple_list = [xy_namedtuple(1.0*i,2.5*i) for i in range(100000)]\n",
      "    26                             \n",
      "    27  144.816 MiB    0.691 MiB       tuple_list = [(1.0*i,2.5*i) for i in range(100000)]\n",
      "    28                             \n",
      "    29  157.980 MiB    0.707 MiB       list_list = [[1.0*i,2.5*i] for i in range(100000)]\n",
      "    30                             \n",
      "    31  160.418 MiB    0.898 MiB       record_np = np.fromiter(((1.0*i,2.5*i) for i in range(100000)),\n",
      "    32  160.418 MiB    0.000 MiB                               dtype=[('x','d'),('y','d')])\n",
      "\n",
      "\n"
     ]
    }
   ],
   "source": [
    "!python -m memory_profiler memory2.py"
   ]
  },
  {
   "cell_type": "code",
   "execution_count": null,
   "metadata": {},
   "outputs": [],
   "source": []
  }
 ],
 "metadata": {
  "anaconda-cloud": {},
  "kernelspec": {
   "display_name": "Python 3",
   "language": "python",
   "name": "python3"
  },
  "language_info": {
   "codemirror_mode": {
    "name": "ipython",
    "version": 3
   },
   "file_extension": ".py",
   "mimetype": "text/x-python",
   "name": "python",
   "nbconvert_exporter": "python",
   "pygments_lexer": "ipython3",
   "version": "3.7.3"
  }
 },
 "nbformat": 4,
 "nbformat_minor": 1
}
