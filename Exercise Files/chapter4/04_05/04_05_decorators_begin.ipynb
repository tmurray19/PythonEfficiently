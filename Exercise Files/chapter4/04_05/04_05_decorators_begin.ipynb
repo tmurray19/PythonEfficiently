{
 "cells": [
  {
   "cell_type": "markdown",
   "metadata": {},
   "source": [
    "### Python module/package imports for this chapter"
   ]
  },
  {
   "cell_type": "code",
   "execution_count": 2,
   "metadata": {},
   "outputs": [],
   "source": [
    "import sys, os, math, random, functools\n",
    "\n",
    "import numpy as np\n",
    "\n",
    "import matplotlib\n",
    "import matplotlib.pyplot as pp\n",
    "import matplotlib.animation as anim\n",
    "\n",
    "%matplotlib inline\n",
    "\n",
    "from IPython.display import display, HTML"
   ]
  },
  {
   "cell_type": "markdown",
   "metadata": {
    "collapsed": true
   },
   "source": [
    "### Code from previous videos (enhanced)"
   ]
  },
  {
   "cell_type": "code",
   "execution_count": 3,
   "metadata": {},
   "outputs": [],
   "source": [
    "from turtle import Turtle, Terrarium"
   ]
  },
  {
   "cell_type": "markdown",
   "metadata": {},
   "source": [
    "## More functional Python"
   ]
  },
  {
   "cell_type": "code",
   "execution_count": 4,
   "metadata": {},
   "outputs": [],
   "source": [
    "def printargs(func):\n",
    "    def decorated(*args, **kwargs):\n",
    "        print(\"Functions {} called with args = {} and kwargs = {}\".format(func.__name__, args, kwargs))\n",
    "    \n",
    "        return func(*args, **kwargs)\n",
    "    return decorated"
   ]
  },
  {
   "cell_type": "code",
   "execution_count": 5,
   "metadata": {},
   "outputs": [],
   "source": [
    "@printargs\n",
    "def fib(n):\n",
    "    \n",
    "    if n<2:\n",
    "        return n\n",
    "    \n",
    "    return fib(n-1) + fib(n-2)"
   ]
  },
  {
   "cell_type": "code",
   "execution_count": 6,
   "metadata": {},
   "outputs": [
    {
     "name": "stdout",
     "output_type": "stream",
     "text": [
      "Functions fib called with args = (5,) and kwargs = {}\n",
      "Functions fib called with args = (4,) and kwargs = {}\n",
      "Functions fib called with args = (3,) and kwargs = {}\n",
      "Functions fib called with args = (2,) and kwargs = {}\n",
      "Functions fib called with args = (1,) and kwargs = {}\n",
      "Functions fib called with args = (0,) and kwargs = {}\n",
      "Functions fib called with args = (1,) and kwargs = {}\n",
      "Functions fib called with args = (2,) and kwargs = {}\n",
      "Functions fib called with args = (1,) and kwargs = {}\n",
      "Functions fib called with args = (0,) and kwargs = {}\n",
      "Functions fib called with args = (3,) and kwargs = {}\n",
      "Functions fib called with args = (2,) and kwargs = {}\n",
      "Functions fib called with args = (1,) and kwargs = {}\n",
      "Functions fib called with args = (0,) and kwargs = {}\n",
      "Functions fib called with args = (1,) and kwargs = {}\n"
     ]
    },
    {
     "data": {
      "text/plain": [
       "5"
      ]
     },
     "execution_count": 6,
     "metadata": {},
     "output_type": "execute_result"
    }
   ],
   "source": [
    "fib(5)"
   ]
  },
  {
   "cell_type": "code",
   "execution_count": 7,
   "metadata": {},
   "outputs": [],
   "source": [
    "def fibonacci(n):\n",
    "    \"\"\"Return a number in the Fibonacci sequence.\"\"\"\n",
    "    \n",
    "    if n < 2:\n",
    "        return n\n",
    "    \n",
    "    return fibonacci(n-1) + fibonacci(n-2)\n",
    "\n",
    "fibonacci = printargs(fibonacci)"
   ]
  },
  {
   "cell_type": "code",
   "execution_count": 8,
   "metadata": {},
   "outputs": [
    {
     "data": {
      "text/plain": [
       "<function __main__.printargs.<locals>.decorated(*args, **kwargs)>"
      ]
     },
     "execution_count": 8,
     "metadata": {},
     "output_type": "execute_result"
    }
   ],
   "source": [
    "fibonacci"
   ]
  },
  {
   "cell_type": "code",
   "execution_count": 9,
   "metadata": {},
   "outputs": [
    {
     "name": "stdout",
     "output_type": "stream",
     "text": [
      "Help on function decorated in module __main__:\n",
      "\n",
      "decorated(*args, **kwargs)\n",
      "\n"
     ]
    }
   ],
   "source": [
    "help(fibonacci)"
   ]
  },
  {
   "cell_type": "code",
   "execution_count": 10,
   "metadata": {},
   "outputs": [],
   "source": [
    "def printargs(func):\n",
    "    @functools.wraps(func)\n",
    "    def decorated(*args, **kwargs):\n",
    "        print(\"Functions {} called with args = {} and kwargs = {}\".format(func.__name__, args, kwargs))\n",
    "    \n",
    "        return func(*args, **kwargs)\n",
    "    return decorated"
   ]
  },
  {
   "cell_type": "code",
   "execution_count": 11,
   "metadata": {},
   "outputs": [],
   "source": [
    "def fibonacci(n):\n",
    "    \"\"\"Return a number in the Fibonacci sequence.\"\"\"\n",
    "    \n",
    "    if n < 2:\n",
    "        return n\n",
    "    \n",
    "    return fibonacci(n-1) + fibonacci(n-2)\n",
    "\n",
    "fibonacci = printargs(fibonacci)"
   ]
  },
  {
   "cell_type": "code",
   "execution_count": 12,
   "metadata": {},
   "outputs": [
    {
     "data": {
      "text/plain": [
       "<function __main__.fibonacci(n)>"
      ]
     },
     "execution_count": 12,
     "metadata": {},
     "output_type": "execute_result"
    }
   ],
   "source": [
    "fibonacci"
   ]
  },
  {
   "cell_type": "code",
   "execution_count": 13,
   "metadata": {},
   "outputs": [
    {
     "name": "stdout",
     "output_type": "stream",
     "text": [
      "Help on function fibonacci in module __main__:\n",
      "\n",
      "fibonacci(n)\n",
      "    Return a number in the Fibonacci sequence.\n",
      "\n"
     ]
    }
   ],
   "source": [
    "help(fibonacci)"
   ]
  },
  {
   "cell_type": "code",
   "execution_count": 14,
   "metadata": {},
   "outputs": [
    {
     "name": "stdout",
     "output_type": "stream",
     "text": [
      "Functions fibonacci called with args = (5,) and kwargs = {}\n",
      "Functions fibonacci called with args = (4,) and kwargs = {}\n",
      "Functions fibonacci called with args = (3,) and kwargs = {}\n",
      "Functions fibonacci called with args = (2,) and kwargs = {}\n",
      "Functions fibonacci called with args = (1,) and kwargs = {}\n",
      "Functions fibonacci called with args = (0,) and kwargs = {}\n",
      "Functions fibonacci called with args = (1,) and kwargs = {}\n",
      "Functions fibonacci called with args = (2,) and kwargs = {}\n",
      "Functions fibonacci called with args = (1,) and kwargs = {}\n",
      "Functions fibonacci called with args = (0,) and kwargs = {}\n",
      "Functions fibonacci called with args = (3,) and kwargs = {}\n",
      "Functions fibonacci called with args = (2,) and kwargs = {}\n",
      "Functions fibonacci called with args = (1,) and kwargs = {}\n",
      "Functions fibonacci called with args = (0,) and kwargs = {}\n",
      "Functions fibonacci called with args = (1,) and kwargs = {}\n"
     ]
    },
    {
     "data": {
      "text/plain": [
       "5"
      ]
     },
     "execution_count": 14,
     "metadata": {},
     "output_type": "execute_result"
    }
   ],
   "source": [
    "fibonacci(5)"
   ]
  },
  {
   "cell_type": "code",
   "execution_count": 18,
   "metadata": {},
   "outputs": [],
   "source": [
    "@functools.lru_cache(maxsize = None)\n",
    "@printargs\n",
    "def fibonacci(n):\n",
    "    \n",
    "    if n<2:\n",
    "        return n\n",
    "    \n",
    "    return fib(n-1) + fib(n-2)"
   ]
  },
  {
   "cell_type": "code",
   "execution_count": 19,
   "metadata": {},
   "outputs": [
    {
     "name": "stdout",
     "output_type": "stream",
     "text": [
      "Functions fibonacci called with args = (5,) and kwargs = {}\n"
     ]
    },
    {
     "data": {
      "text/plain": [
       "5"
      ]
     },
     "execution_count": 19,
     "metadata": {},
     "output_type": "execute_result"
    }
   ],
   "source": [
    "fibonacci(5)"
   ]
  },
  {
   "cell_type": "code",
   "execution_count": 21,
   "metadata": {},
   "outputs": [
    {
     "data": {
      "text/html": [
       "<video width=\"360\" height=\"360\" controls autoplay>\n",
       "  <source type=\"video/mp4\" src=\"data:video/mp4;base64,AAAAHGZ0eXBNNFYgAAACAGlzb21pc28yYXZjMQAAAAhmcmVlAAAH621kYXQAAAKvBgX//6vcRem9\n",
       "5tlIt5Ys2CDZI+7veDI2NCAtIGNvcmUgMTU3IHIyOTcwIDU0OTNiZTggLSBILjI2NC9NUEVHLTQg\n",
       "QVZDIGNvZGVjIC0gQ29weWxlZnQgMjAwMy0yMDE5IC0gaHR0cDovL3d3dy52aWRlb2xhbi5vcmcv\n",
       "eDI2NC5odG1sIC0gb3B0aW9uczogY2FiYWM9MSByZWY9MyBkZWJsb2NrPTE6MDowIGFuYWx5c2U9\n",
       "MHgzOjB4MTEzIG1lPWhleCBzdWJtZT03IHBzeT0xIHBzeV9yZD0xLjAwOjAuMDAgbWl4ZWRfcmVm\n",
       "PTEgbWVfcmFuZ2U9MTYgY2hyb21hX21lPTEgdHJlbGxpcz0xIDh4OGRjdD0xIGNxbT0wIGRlYWR6\n",
       "b25lPTIxLDExIGZhc3RfcHNraXA9MSBjaHJvbWFfcXBfb2Zmc2V0PS0yIHRocmVhZHM9MTEgbG9v\n",
       "a2FoZWFkX3RocmVhZHM9MSBzbGljZWRfdGhyZWFkcz0wIG5yPTAgZGVjaW1hdGU9MSBpbnRlcmxh\n",
       "Y2VkPTAgYmx1cmF5X2NvbXBhdD0wIGNvbnN0cmFpbmVkX2ludHJhPTAgYmZyYW1lcz0zIGJfcHly\n",
       "YW1pZD0yIGJfYWRhcHQ9MSBiX2JpYXM9MCBkaXJlY3Q9MSB3ZWlnaHRiPTEgb3Blbl9nb3A9MCB3\n",
       "ZWlnaHRwPTIga2V5aW50PTI1MCBrZXlpbnRfbWluPTI1IHNjZW5lY3V0PTQwIGludHJhX3JlZnJl\n",
       "c2g9MCByY19sb29rYWhlYWQ9NDAgcmM9Y3JmIG1idHJlZT0xIGNyZj0yMy4wIHFjb21wPTAuNjAg\n",
       "cXBtaW49MCBxcG1heD02OSBxcHN0ZXA9NCBpcF9yYXRpbz0xLjQwIGFxPTE6MS4wMACAAAAAjmWI\n",
       "hAA3//728P4FNjuY0JcRzeidMx+/Fbi6NDe9zgAAAwEoxsa93U1uYTrAAR/4n+hBj8w5lh93a9Nr\n",
       "2oxrn42MZ9B3AbWaC0eIvbADLnwINcNManf4AAQoW7j3OZM2uRadOAAAAwE50zykB6ITLAeiu3yC\n",
       "3qY4AjMRvfW4LK90d+n7noHkAADVwAB3pHUAAAAPQZokbEN//qeEAAADAKCAAAAADEGeQniFfwAA\n",
       "AwB/gQAAAAwBnmF0Qn8AAAMAqYAAAAAMAZ5jakJ/AAADAKmBAAAAT0GaaEmoQWiZTAhv//6nhANP\n",
       "NgUIk6p7M51/5iUwLP7bdLrK/9ZPfgSUpwlXoICi2GWG3F+XbwD8CK0Gl4DwzDXRdC8vdLtHek/7\n",
       "j1JfLqEAAAAbQZ6GRREsK/8BuyFbM9HYz40JC5RC1gD5umvZAAAAGQGepXRCfwI57xG4B7KnzdkL\n",
       "l7GuFijsdHcAAAAMAZ6nakJ/AAADAKmAAAAAFUGarEmoQWyZTAhv//6nhAAAAwCggAAAAA5BnspF\n",
       "FSwr/wAAAwB/gQAAAAwBnul0Qn8AAAMAqYAAAAAMAZ7rakJ/AAADAKmAAAAAFUGa8EmoQWyZTAhv\n",
       "//6nhAAAAwCggQAAAA5Bnw5FFSwr/wAAAwB/gQAAAAwBny10Qn8AAAMAqYEAAAAMAZ8vakJ/AAAD\n",
       "AKmAAAAAFUGbNEmoQWyZTAhv//6nhAAAAwCggAAAAA5Bn1JFFSwr/wAAAwB/gQAAAAwBn3F0Qn8A\n",
       "AAMAqYAAAAAMAZ9zakJ/AAADAKmAAAAAFUGbeEmoQWyZTAhv//6nhAAAAwCggQAAAA5Bn5ZFFSwr\n",
       "/wAAAwB/gAAAAAwBn7V0Qn8AAAMAqYEAAAAMAZ+3akJ/AAADAKmBAAAAFUGbvEmoQWyZTAhv//6n\n",
       "hAAAAwCggAAAAA5Bn9pFFSwr/wAAAwB/gQAAAAwBn/l0Qn8AAAMAqYAAAAAMAZ/7akJ/AAADAKmB\n",
       "AAAAFUGb4EmoQWyZTAhv//6nhAAAAwCggQAAAA5Bnh5FFSwr/wAAAwB/gAAAAAwBnj10Qn8AAAMA\n",
       "qYAAAAAMAZ4/akJ/AAADAKmBAAAAFUGaJEmoQWyZTAhv//6nhAAAAwCggAAAAA5BnkJFFSwr/wAA\n",
       "AwB/gQAAAAwBnmF0Qn8AAAMAqYAAAAAMAZ5jakJ/AAADAKmBAAAAFUGaaEmoQWyZTAhv//6nhAAA\n",
       "AwCggQAAAA5BnoZFFSwr/wAAAwB/gQAAAAwBnqV0Qn8AAAMAqYEAAAAMAZ6nakJ/AAADAKmAAAAA\n",
       "FUGarEmoQWyZTAhv//6nhAAAAwCggAAAAA5BnspFFSwr/wAAAwB/gQAAAAwBnul0Qn8AAAMAqYAA\n",
       "AAAMAZ7rakJ/AAADAKmAAAAAFUGa8EmoQWyZTAhv//6nhAAAAwCggQAAAA5Bnw5FFSwr/wAAAwB/\n",
       "gQAAAAwBny10Qn8AAAMAqYEAAAAMAZ8vakJ/AAADAKmAAAAAFEGbNEmoQWyZTAhn//6eEAAAAwJu\n",
       "AAAADkGfUkUVLCv/AAADAH+BAAAADAGfcXRCfwAAAwCpgAAAAAwBn3NqQn8AAAMAqYAAAAAUQZt4\n",
       "SahBbJlMCF///oywAAADAncAAAAOQZ+WRRUsK/8AAAMAf4AAAAAMAZ+1dEJ/AAADAKmBAAAADAGf\n",
       "t2pCfwAAAwCpgQAAABRBm7tJqEFsmUwIT//98QAAAwAXcAAAAA5Bn9lFFSwr/wAAAwB/gQAAAAwB\n",
       "n/pqQn8AAAMAqYAAAAX3bW9vdgAAAGxtdmhkAAAAAAAAAAAAAAAAAAAD6AAAB9AAAQAAAQAAAAAA\n",
       "AAAAAAAAAAEAAAAAAAAAAAAAAAAAAAABAAAAAAAAAAAAAAAAAABAAAAAAAAAAAAAAAAAAAAAAAAA\n",
       "AAAAAAAAAAAAAAAAAgAABSF0cmFrAAAAXHRraGQAAAADAAAAAAAAAAAAAAABAAAAAAAAB9AAAAAA\n",
       "AAAAAAAAAAAAAAAAAAEAAAAAAAAAAAAAAAAAAAABAAAAAAAAAAAAAAAAAABAAAAAAWgAAAFoAAAA\n",
       "AAAkZWR0cwAAABxlbHN0AAAAAAAAAAEAAAfQAAAEAAABAAAAAASZbWRpYQAAACBtZGhkAAAAAAAA\n",
       "AAAAAAAAAAA8AAAAeABVxAAAAAAALWhkbHIAAAAAAAAAAHZpZGUAAAAAAAAAAAAAAABWaWRlb0hh\n",
       "bmRsZXIAAAAERG1pbmYAAAAUdm1oZAAAAAEAAAAAAAAAAAAAACRkaW5mAAAAHGRyZWYAAAAAAAAA\n",
       "AQAAAAx1cmwgAAAAAQAABARzdGJsAAAAtHN0c2QAAAAAAAAAAQAAAKRhdmMxAAAAAAAAAAEAAAAA\n",
       "AAAAAAAAAAAAAAAAAWgBaABIAAAASAAAAAAAAAABAAAAAAAAAAAAAAAAAAAAAAAAAAAAAAAAAAAA\n",
       "AAAAAAAAGP//AAAAMmF2Y0MBZAgV/+EAGWdkCBWs2UFwv5ZYQAAAAwBAAAAPA8WLZYABAAZo6+PL\n",
       "IsAAAAAcdXVpZGtoQPJfJE/FujmlG88DI/MAAAAAAAAAGHN0dHMAAAAAAAAAAQAAADwAAAIAAAAA\n",
       "FHN0c3MAAAAAAAAAAQAAAAEAAAHoY3R0cwAAAAAAAAA7AAAAAQAABAAAAAABAAAKAAAAAAEAAAQA\n",
       "AAAAAQAAAAAAAAABAAACAAAAAAEAAAoAAAAAAQAABAAAAAABAAAAAAAAAAEAAAIAAAAAAQAACgAA\n",
       "AAABAAAEAAAAAAEAAAAAAAAAAQAAAgAAAAABAAAKAAAAAAEAAAQAAAAAAQAAAAAAAAABAAACAAAA\n",
       "AAEAAAoAAAAAAQAABAAAAAABAAAAAAAAAAEAAAIAAAAAAQAACgAAAAABAAAEAAAAAAEAAAAAAAAA\n",
       "AQAAAgAAAAABAAAKAAAAAAEAAAQAAAAAAQAAAAAAAAABAAACAAAAAAEAAAoAAAAAAQAABAAAAAAB\n",
       "AAAAAAAAAAEAAAIAAAAAAQAACgAAAAABAAAEAAAAAAEAAAAAAAAAAQAAAgAAAAABAAAKAAAAAAEA\n",
       "AAQAAAAAAQAAAAAAAAABAAACAAAAAAEAAAoAAAAAAQAABAAAAAABAAAAAAAAAAEAAAIAAAAAAQAA\n",
       "CgAAAAABAAAEAAAAAAEAAAAAAAAAAQAAAgAAAAABAAAKAAAAAAEAAAQAAAAAAQAAAAAAAAABAAAC\n",
       "AAAAAAEAAAoAAAAAAQAABAAAAAABAAAAAAAAAAEAAAIAAAAAAQAACAAAAAACAAACAAAAABxzdHNj\n",
       "AAAAAAAAAAEAAAABAAAAPAAAAAEAAAEEc3RzegAAAAAAAAAAAAAAPAAAA0UAAAATAAAAEAAAABAA\n",
       "AAAQAAAAUwAAAB8AAAAdAAAAEAAAABkAAAASAAAAEAAAABAAAAAZAAAAEgAAABAAAAAQAAAAGQAA\n",
       "ABIAAAAQAAAAEAAAABkAAAASAAAAEAAAABAAAAAZAAAAEgAAABAAAAAQAAAAGQAAABIAAAAQAAAA\n",
       "EAAAABkAAAASAAAAEAAAABAAAAAZAAAAEgAAABAAAAAQAAAAGQAAABIAAAAQAAAAEAAAABkAAAAS\n",
       "AAAAEAAAABAAAAAYAAAAEgAAABAAAAAQAAAAGAAAABIAAAAQAAAAEAAAABgAAAASAAAAEAAAABRz\n",
       "dGNvAAAAAAAAAAEAAAAsAAAAYnVkdGEAAABabWV0YQAAAAAAAAAhaGRscgAAAAAAAAAAbWRpcmFw\n",
       "cGwAAAAAAAAAAAAAAAAtaWxzdAAAACWpdG9vAAAAHWRhdGEAAAABAAAAAExhdmY1OC4yMC4xMDA=\n",
       "\">\n",
       "  Your browser does not support the video tag.\n",
       "</video>"
      ],
      "text/plain": [
       "<IPython.core.display.HTML object>"
      ]
     },
     "metadata": {},
     "output_type": "display_data"
    }
   ],
   "source": [
    "def quartercircle(t1, dist):\n",
    "    for a in range(90):\n",
    "        t1.forward(dist)\n",
    "        t1.left(1)\n",
    "        \n",
    "with Terrarium(animate = True) as t:\n",
    "    t1 = Turtle(t)\n",
    "    \n",
    "    for dist in [fibonacci(i) for i in range(10)]:\n",
    "        quartercircle(t1, dist)"
   ]
  },
  {
   "cell_type": "code",
   "execution_count": 22,
   "metadata": {},
   "outputs": [
    {
     "name": "stdout",
     "output_type": "stream",
     "text": [
      "0\n",
      "2\n",
      "4\n",
      "6\n",
      "8\n"
     ]
    }
   ],
   "source": [
    "def twice(a):\n",
    "    return 2*a\n",
    "for i in map(twice, range(5)):\n",
    "    print(i)"
   ]
  },
  {
   "cell_type": "code",
   "execution_count": 23,
   "metadata": {},
   "outputs": [
    {
     "name": "stdout",
     "output_type": "stream",
     "text": [
      "0\n",
      "2\n",
      "4\n",
      "6\n",
      "8\n"
     ]
    }
   ],
   "source": [
    "for i in map(lambda a: 2*a, range(5)):\n",
    "    print(i)"
   ]
  },
  {
   "cell_type": "code",
   "execution_count": 26,
   "metadata": {},
   "outputs": [
    {
     "data": {
      "image/png": "[encoded data removed]",
      "text/plain": [
       "<Figure size 360x360 with 1 Axes>"
      ]
     },
     "metadata": {},
     "output_type": "display_data"
    }
   ],
   "source": [
    "with Terrarium(animate = False) as t:\n",
    "    t1 = Turtle(t)\n",
    "    \n",
    "    for dist in map(lambda x: x**2, map(fibonacci,range(10))):\n",
    "        quartercircle(t1, dist)"
   ]
  },
  {
   "cell_type": "code",
   "execution_count": 30,
   "metadata": {},
   "outputs": [
    {
     "data": {
      "image/png": "[encoded data removed]",
      "text/plain": [
       "<Figure size 720x720 with 1 Axes>"
      ]
     },
     "metadata": {},
     "output_type": "display_data"
    }
   ],
   "source": [
    "with Terrarium(figsize = 10) as t:\n",
    "    t1 = Turtle(t)\n",
    "    \n",
    "    for dist in filter(lambda x: x % 2 == 0, map(fibonacci,range(10))):\n",
    "        quartercircle(t1, dist)"
   ]
  },
  {
   "cell_type": "code",
   "execution_count": 31,
   "metadata": {},
   "outputs": [
    {
     "data": {
      "text/plain": [
       "88"
      ]
     },
     "execution_count": 31,
     "metadata": {},
     "output_type": "execute_result"
    }
   ],
   "source": [
    "functools.reduce(lambda x,y: x+y, map(fibonacci, range(10)))"
   ]
  },
  {
   "cell_type": "code",
   "execution_count": 32,
   "metadata": {},
   "outputs": [
    {
     "data": {
      "text/plain": [
       "88"
      ]
     },
     "execution_count": 32,
     "metadata": {},
     "output_type": "execute_result"
    }
   ],
   "source": [
    "sum(map(fibonacci,range(10)))"
   ]
  },
  {
   "cell_type": "code",
   "execution_count": null,
   "metadata": {},
   "outputs": [],
   "source": []
  }
 ],
 "metadata": {
  "anaconda-cloud": {},
  "kernelspec": {
   "display_name": "Python 3",
   "language": "python",
   "name": "python3"
  },
  "language_info": {
   "codemirror_mode": {
    "name": "ipython",
    "version": 3
   },
   "file_extension": ".py",
   "mimetype": "text/x-python",
   "name": "python",
   "nbconvert_exporter": "python",
   "pygments_lexer": "ipython3",
   "version": "3.7.3"
  }
 },
 "nbformat": 4,
 "nbformat_minor": 1
}
